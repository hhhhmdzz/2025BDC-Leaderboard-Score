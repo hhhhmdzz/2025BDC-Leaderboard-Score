{
 "cells": [
  {
   "cell_type": "code",
   "execution_count": 1,
   "id": "74891b27",
   "metadata": {},
   "outputs": [],
   "source": [
    "import os\n",
    "import numpy as np\n",
    "import pandas as pd"
   ]
  },
  {
   "cell_type": "code",
   "execution_count": 2,
   "id": "4c13d8a3",
   "metadata": {},
   "outputs": [],
   "source": [
    "def f1(true, pred, return_intersection=False):\n",
    "    true_set = set(true)\n",
    "    pred_set = set(pred)\n",
    "    intersection = true_set & pred_set\n",
    "    correct = len(intersection)\n",
    "    if correct == 0:\n",
    "        if return_intersection:\n",
    "            return 0, intersection\n",
    "        return 0\n",
    "    precision = correct / len(pred_set)\n",
    "    recall = correct / len(true_set)\n",
    "    f1_ = 2 * precision * recall / (precision + recall)\n",
    "    if return_intersection:\n",
    "        return f1_, intersection\n",
    "    return f1_"
   ]
  },
  {
   "cell_type": "code",
   "execution_count": 3,
   "id": "e7c18809",
   "metadata": {},
   "outputs": [],
   "source": [
    "def src(true, pred):\n",
    "    pos_true = {t: i for i, t in enumerate(true)}\n",
    "    N = len(pred)  # N = 10\n",
    "    d2 = 0\n",
    "    for pos_p, p in enumerate(pred):\n",
    "        pos_t = pos_true[p]\n",
    "        di = min(abs(pos_p - pos_t), N)\n",
    "        d2 += di ** 2\n",
    "    \n",
    "    src_ = 1 - 6 * d2 / (N * (N ** 2 - 1))\n",
    "    # src_ = 1 - d2 / 165\n",
    "    return src_"
   ]
  },
  {
   "cell_type": "code",
   "execution_count": 4,
   "id": "75482fe8",
   "metadata": {},
   "outputs": [],
   "source": [
    "def leaderboard_score(sub, ans):\n",
    "    ans = ans.sort_values(by='涨跌幅', ascending=False)['股票代码']\n",
    "    scores = [\n",
    "        f1(ans[:10], sub['涨幅最大股票代码']),\n",
    "        f1(ans[-10:], sub['涨幅最小股票代码']),\n",
    "        src(ans, sub['涨幅最大股票代码']),\n",
    "        src(ans[::-1], sub['涨幅最小股票代码'][::-1]),\n",
    "    ]\n",
    "    final_score = np.average(scores, weights=[0.2, 0.2, 0.3, 0.3])\n",
    "    scores.append(final_score)\n",
    "    scores = pd.DataFrame(\n",
    "        scores,\n",
    "        index=['F1_up', 'F1_down', 'RC_up', 'RC_down', 'Final'],\n",
    "        columns=['scores']\n",
    "    )\n",
    "    return scores"
   ]
  },
  {
   "cell_type": "code",
   "execution_count": null,
   "id": "f66decf3",
   "metadata": {},
   "outputs": [
    {
     "data": {
      "application/vnd.microsoft.datawrangler.viewer.v0+json": {
       "columns": [
        {
         "name": "index",
         "rawType": "object",
         "type": "string"
        },
        {
         "name": "scores",
         "rawType": "float64",
         "type": "float"
        }
       ],
       "ref": "726d20f4-6406-41e8-9532-bc9d22294720",
       "rows": [
        [
         "F1_up",
         "0.10000000000000002"
        ],
        [
         "F1_down",
         "0.0"
        ],
        [
         "RC_up",
         "-4.163636363636364"
        ],
        [
         "RC_down",
         "-5.0606060606060606"
        ],
        [
         "Final",
         "-2.747272727272727"
        ]
       ],
       "shape": {
        "columns": 1,
        "rows": 5
       }
      },
      "text/html": [
       "<div>\n",
       "<style scoped>\n",
       "    .dataframe tbody tr th:only-of-type {\n",
       "        vertical-align: middle;\n",
       "    }\n",
       "\n",
       "    .dataframe tbody tr th {\n",
       "        vertical-align: top;\n",
       "    }\n",
       "\n",
       "    .dataframe thead th {\n",
       "        text-align: right;\n",
       "    }\n",
       "</style>\n",
       "<table border=\"1\" class=\"dataframe\">\n",
       "  <thead>\n",
       "    <tr style=\"text-align: right;\">\n",
       "      <th></th>\n",
       "      <th>scores</th>\n",
       "    </tr>\n",
       "  </thead>\n",
       "  <tbody>\n",
       "    <tr>\n",
       "      <th>F1_up</th>\n",
       "      <td>0.100000</td>\n",
       "    </tr>\n",
       "    <tr>\n",
       "      <th>F1_down</th>\n",
       "      <td>0.000000</td>\n",
       "    </tr>\n",
       "    <tr>\n",
       "      <th>RC_up</th>\n",
       "      <td>-4.163636</td>\n",
       "    </tr>\n",
       "    <tr>\n",
       "      <th>RC_down</th>\n",
       "      <td>-5.060606</td>\n",
       "    </tr>\n",
       "    <tr>\n",
       "      <th>Final</th>\n",
       "      <td>-2.747273</td>\n",
       "    </tr>\n",
       "  </tbody>\n",
       "</table>\n",
       "</div>"
      ],
      "text/plain": [
       "           scores\n",
       "F1_up    0.100000\n",
       "F1_down  0.000000\n",
       "RC_up   -4.163636\n",
       "RC_down -5.060606\n",
       "Final   -2.747273"
      ]
     },
     "execution_count": 5,
     "metadata": {},
     "output_type": "execute_result"
    }
   ],
   "source": [
    "sub = './output/result.csv'  # 预测结果\n",
    "ans = './output/bfq_stocks_428.csv'  # 真实数据\n",
    "sub = pd.read_csv(sub)\n",
    "ans = pd.read_csv(ans)\n",
    "leaderboard_score(sub, ans)"
   ]
  },
  {
   "cell_type": "code",
   "execution_count": null,
   "id": "eabf0051",
   "metadata": {},
   "outputs": [],
   "source": []
  }
 ],
 "metadata": {
  "kernelspec": {
   "display_name": "ml",
   "language": "python",
   "name": "python3"
  },
  "language_info": {
   "codemirror_mode": {
    "name": "ipython",
    "version": 3
   },
   "file_extension": ".py",
   "mimetype": "text/x-python",
   "name": "python",
   "nbconvert_exporter": "python",
   "pygments_lexer": "ipython3",
   "version": "3.10.0"
  }
 },
 "nbformat": 4,
 "nbformat_minor": 5
}
